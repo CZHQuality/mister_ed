{
 "cells": [
  {
   "cell_type": "code",
   "execution_count": 1,
   "metadata": {},
   "outputs": [],
   "source": [
    "\"\"\" 3/27/18 \n",
    "With a functional mister_ed package, it's time to run the madry challenge.\n",
    "\n",
    "Step 1 is to build a defended network that can transfer to their tensorflow nets.\n",
    "Because Madry uses tensorflow, transferability is a must. \n",
    "\n",
    "From Madry:\n",
    "The model is a residual convolutional neural network consisting of five residual units and a fully connected layer. \n",
    "This architecture is derived from the \"w32-10 wide\" variant of the Tensorflow model repository. \n",
    "The network was trained against an iterative adversary that is allowed to perturb each pixel by at most epsilon=8.0.\n",
    "\"\"\"\n",
    "None"
   ]
  },
  {
   "cell_type": "code",
   "execution_count": 2,
   "metadata": {},
   "outputs": [],
   "source": [
    "# Universal import block \n",
    "# Block to get the relative imports working \n",
    "import os\n",
    "import sys \n",
    "module_path = os.path.abspath(os.path.join('..'))\n",
    "if module_path not in sys.path:\n",
    "    sys.path.append(module_path)\n",
    "\n",
    "import torch\n",
    "import torch.nn as nn\n",
    "\n",
    "import config\n",
    "import prebuilt_loss_functions as plf\n",
    "import utils.pytorch_utils as utils\n",
    "import utils.image_utils as img_utils\n",
    "import cifar10.cifar_loader as cifar_loader\n",
    "import cifar10.cifar_resnets as cifar_resnets\n",
    "import adversarial_attacks as aa\n",
    "import adversarial_training as advtrain\n"
   ]
  },
  {
   "cell_type": "code",
   "execution_count": 3,
   "metadata": {},
   "outputs": [
    {
     "name": "stdout",
     "output_type": "stream",
     "text": [
      "Files already downloaded and verified\n"
     ]
    }
   ],
   "source": [
    "# Step -1: load the classifier, data_loader, and the normalizer \n",
    "use_gpu = True\n",
    "classifier_net = cifar_loader.load_pretrained_cifar_resnet(flavor=32,\n",
    "                                                           use_gpu=use_gpu)\n",
    "classifier_net.eval()\n",
    "\n",
    "val_loader = cifar_loader.load_cifar_data('val', normalize=False, \n",
    "                                          use_gpu=use_gpu)\n",
    "\n",
    "cifar_normer = utils.DifferentiableNormalize(mean=config.CIFAR10_MEANS,\n",
    "                                             std=config.CIFAR10_STDS)\n"
   ]
  },
  {
   "cell_type": "code",
   "execution_count": 4,
   "metadata": {},
   "outputs": [],
   "source": [
    "# Step 0: initialize hyperparams for attack and training \n",
    "PGD_L_INF = 8.0 / 255.0\n",
    "PGD_STEP_SIZE = 1.0 / 255.0\n",
    "PGD_NUM_ITER = 16\n",
    "PGD_TRAINING_PROP = 1.0"
   ]
  },
  {
   "cell_type": "code",
   "execution_count": 5,
   "metadata": {},
   "outputs": [],
   "source": [
    "# Step 1: setup loss object \n",
    "standard_xentropy = plf.VanillaXentropy(classifier_net, normalizer=cifar_normer)"
   ]
  },
  {
   "cell_type": "code",
   "execution_count": 6,
   "metadata": {},
   "outputs": [],
   "source": [
    "# Step 2: build attack object and its parameters\n",
    "pgd_attack_object = aa.LInfPGD(classifier_net, cifar_normer, standard_xentropy)\n",
    "pgd_attack_params = advtrain.AdversarialAttackParameters(\n",
    "                            pgd_attack_object, \n",
    "                            PGD_TRAINING_PROP,\n",
    "                            {'attack_kwargs': \n",
    "                                {'l_inf_bound': PGD_L_INF,\n",
    "                                 'step_size': PGD_STEP_SIZE,\n",
    "                                 'num_iterations': PGD_NUM_ITER,\n",
    "                                 'random_init': True,\n",
    "                                 'signed': True,\n",
    "                                 'verbose': False}})\n"
   ]
  },
  {
   "cell_type": "code",
   "execution_count": 7,
   "metadata": {},
   "outputs": [
    {
     "name": "stdout",
     "output_type": "stream",
     "text": [
      "Files already downloaded and verified\n"
     ]
    }
   ],
   "source": [
    "# Step 3: build training object, training loss, data loader\n",
    "\n",
    "pgd_cifar_training = advtrain.AdversarialTraining(classifier_net, \n",
    "                                                  cifar_normer, \n",
    "                                                  'full_pgd_cifar_madry_params',\n",
    "                                                  'cifar_resnet32')\n",
    "train_loss = nn.CrossEntropyLoss()\n",
    "train_loader = cifar_loader.load_cifar_data('train', normalize=False)\n",
    "\n"
   ]
  },
  {
   "cell_type": "code",
   "execution_count": 14,
   "metadata": {},
   "outputs": [
    {
     "data": {
      "text/plain": [
       "False"
      ]
     },
     "execution_count": 14,
     "metadata": {},
     "output_type": "execute_result"
    }
   ],
   "source": [
    "pgd_attack_object.use_gpu"
   ]
  },
  {
   "cell_type": "code",
   "execution_count": null,
   "metadata": {},
   "outputs": [],
   "source": []
  },
  {
   "cell_type": "code",
   "execution_count": 8,
   "metadata": {},
   "outputs": [
    {
     "name": "stdout",
     "output_type": "stream",
     "text": [
      "\n",
      "<class 'torch.FloatTensor'>\n",
      "<class 'torch.cuda.FloatTensor'>\n",
      "WHAT?????\n"
     ]
    },
    {
     "ename": "TypeError",
     "evalue": "add received an invalid combination of arguments - got (torch.cuda.FloatTensor), but expected one of:\n * (float value)\n      didn't match because some of the arguments have invalid types: (\u001b[31;1mtorch.cuda.FloatTensor\u001b[0m)\n * (torch.FloatTensor other)\n      didn't match because some of the arguments have invalid types: (\u001b[31;1mtorch.cuda.FloatTensor\u001b[0m)\n * (torch.SparseFloatTensor other)\n      didn't match because some of the arguments have invalid types: (\u001b[31;1mtorch.cuda.FloatTensor\u001b[0m)\n * (float value, torch.FloatTensor other)\n * (float value, torch.SparseFloatTensor other)\n",
     "output_type": "error",
     "traceback": [
      "\u001b[0;31m---------------------------------------------------------------------------\u001b[0m",
      "\u001b[0;31mTypeError\u001b[0m                                 Traceback (most recent call last)",
      "\u001b[0;32m<ipython-input-8-505b72c1add1>\u001b[0m in \u001b[0;36m<module>\u001b[0;34m()\u001b[0m\n\u001b[1;32m      2\u001b[0m pgd_cifar_training.train(train_loader, 256, train_loss, \n\u001b[1;32m      3\u001b[0m                          \u001b[0mattack_parameters\u001b[0m\u001b[0;34m=\u001b[0m\u001b[0mpgd_attack_params\u001b[0m\u001b[0;34m,\u001b[0m\u001b[0;34m\u001b[0m\u001b[0m\n\u001b[0;32m----> 4\u001b[0;31m                          use_gpu=True, verbosity='medium')\n\u001b[0m",
      "\u001b[0;32m/home/mjordan/git_repos/mister_ed/adversarial_training.pyc\u001b[0m in \u001b[0;36mtrain\u001b[0;34m(self, data_loader, num_epochs, loss_fxn, optimizer, attack_parameters, use_gpu, verbosity)\u001b[0m\n\u001b[1;32m    323\u001b[0m                 \u001b[0;31m# Build adversarial examples\u001b[0m\u001b[0;34m\u001b[0m\u001b[0;34m\u001b[0m\u001b[0m\n\u001b[1;32m    324\u001b[0m                 inputs, labels = self._attack_subroutine(attack_parameters,\n\u001b[0;32m--> 325\u001b[0;31m                                                          inputs, labels, i)\n\u001b[0m\u001b[1;32m    326\u001b[0m \u001b[0;34m\u001b[0m\u001b[0m\n\u001b[1;32m    327\u001b[0m                 \u001b[0;31m# Now proceed with standard training\u001b[0m\u001b[0;34m\u001b[0m\u001b[0;34m\u001b[0m\u001b[0m\n",
      "\u001b[0;32m/home/mjordan/git_repos/mister_ed/adversarial_training.pyc\u001b[0m in \u001b[0;36m_attack_subroutine\u001b[0;34m(self, attack_parameters, inputs, labels, minibatch_num)\u001b[0m\n\u001b[1;32m    238\u001b[0m \u001b[0;34m\u001b[0m\u001b[0m\n\u001b[1;32m    239\u001b[0m \u001b[0;34m\u001b[0m\u001b[0m\n\u001b[0;32m--> 240\u001b[0;31m         \u001b[0madv_data\u001b[0m \u001b[0;34m=\u001b[0m \u001b[0mattack_parameters\u001b[0m\u001b[0;34m.\u001b[0m\u001b[0mattack\u001b[0m\u001b[0;34m(\u001b[0m\u001b[0minputs\u001b[0m\u001b[0;34m,\u001b[0m \u001b[0mlabels\u001b[0m\u001b[0;34m)\u001b[0m\u001b[0;34m\u001b[0m\u001b[0m\n\u001b[0m\u001b[1;32m    241\u001b[0m         \u001b[0madv_inputs\u001b[0m\u001b[0;34m,\u001b[0m \u001b[0madv_labels\u001b[0m\u001b[0;34m,\u001b[0m \u001b[0madv_idxs\u001b[0m \u001b[0;34m=\u001b[0m \u001b[0madv_data\u001b[0m\u001b[0;34m\u001b[0m\u001b[0m\n\u001b[1;32m    242\u001b[0m \u001b[0;34m\u001b[0m\u001b[0m\n",
      "\u001b[0;32m/home/mjordan/git_repos/mister_ed/adversarial_training.pyc\u001b[0m in \u001b[0;36mattack\u001b[0;34m(self, inputs, labels)\u001b[0m\n\u001b[1;32m     97\u001b[0m \u001b[0;34m\u001b[0m\u001b[0m\n\u001b[1;32m     98\u001b[0m         adv_examples = self.adv_attack_obj.attack(adv_inputs, pre_adv_labels,\n\u001b[0;32m---> 99\u001b[0;31m                                                   **self.attack_kwargs)\n\u001b[0m\u001b[1;32m    100\u001b[0m         \u001b[0madv_examples\u001b[0m \u001b[0;34m=\u001b[0m \u001b[0mself\u001b[0m\u001b[0;34m.\u001b[0m\u001b[0moutput_filter\u001b[0m\u001b[0;34m(\u001b[0m\u001b[0madv_examples\u001b[0m\u001b[0;34m)\u001b[0m\u001b[0;34m\u001b[0m\u001b[0m\n\u001b[1;32m    101\u001b[0m \u001b[0;34m\u001b[0m\u001b[0m\n",
      "\u001b[0;32m/home/mjordan/git_repos/mister_ed/adversarial_attacks.py\u001b[0m in \u001b[0;36mattack\u001b[0;34m(self, examples, labels, l_inf_bound, step_size, num_iterations, random_init, signed, verbose)\u001b[0m\n\u001b[1;32m    364\u001b[0m             \u001b[0;32mprint\u001b[0m \u001b[0mtype\u001b[0m\u001b[0;34m(\u001b[0m\u001b[0mintermed_images\u001b[0m\u001b[0;34m.\u001b[0m\u001b[0mdata\u001b[0m\u001b[0;34m)\u001b[0m\u001b[0;34m\u001b[0m\u001b[0m\n\u001b[1;32m    365\u001b[0m             \u001b[0;32mprint\u001b[0m \u001b[0;34m\"WHAT?????\"\u001b[0m\u001b[0;34m\u001b[0m\u001b[0m\n\u001b[0;32m--> 366\u001b[0;31m             \u001b[0mintermed_images\u001b[0m \u001b[0;34m=\u001b[0m \u001b[0mVariable\u001b[0m\u001b[0;34m(\u001b[0m\u001b[0mrand_noise\u001b[0m \u001b[0;34m+\u001b[0m \u001b[0mintermed_images\u001b[0m\u001b[0;34m.\u001b[0m\u001b[0mdata\u001b[0m\u001b[0;34m,\u001b[0m \u001b[0mrequires_grad\u001b[0m\u001b[0;34m=\u001b[0m\u001b[0mTrue\u001b[0m\u001b[0;34m)\u001b[0m\u001b[0;34m\u001b[0m\u001b[0m\n\u001b[0m\u001b[1;32m    367\u001b[0m             \u001b[0mvalidator\u001b[0m\u001b[0;34m(\u001b[0m\u001b[0mintermed_images\u001b[0m\u001b[0;34m,\u001b[0m \u001b[0mvar_labels\u001b[0m\u001b[0;34m,\u001b[0m \u001b[0miter_no\u001b[0m\u001b[0;34m=\u001b[0m\u001b[0;34m\"RANDOM\"\u001b[0m\u001b[0;34m)\u001b[0m\u001b[0;34m\u001b[0m\u001b[0m\n\u001b[1;32m    368\u001b[0m \u001b[0;34m\u001b[0m\u001b[0m\n",
      "\u001b[0;32m/usr/lib/python2.7/site-packages/torch/tensor.pyc\u001b[0m in \u001b[0;36m__add__\u001b[0;34m(self, other)\u001b[0m\n\u001b[1;32m    303\u001b[0m     \u001b[0;31m# TODO: add tests for operators\u001b[0m\u001b[0;34m\u001b[0m\u001b[0;34m\u001b[0m\u001b[0m\n\u001b[1;32m    304\u001b[0m     \u001b[0;32mdef\u001b[0m \u001b[0m__add__\u001b[0m\u001b[0;34m(\u001b[0m\u001b[0mself\u001b[0m\u001b[0;34m,\u001b[0m \u001b[0mother\u001b[0m\u001b[0;34m)\u001b[0m\u001b[0;34m:\u001b[0m\u001b[0;34m\u001b[0m\u001b[0m\n\u001b[0;32m--> 305\u001b[0;31m         \u001b[0;32mreturn\u001b[0m \u001b[0mself\u001b[0m\u001b[0;34m.\u001b[0m\u001b[0madd\u001b[0m\u001b[0;34m(\u001b[0m\u001b[0mother\u001b[0m\u001b[0;34m)\u001b[0m\u001b[0;34m\u001b[0m\u001b[0m\n\u001b[0m\u001b[1;32m    306\u001b[0m     \u001b[0m__radd__\u001b[0m \u001b[0;34m=\u001b[0m \u001b[0m__add__\u001b[0m\u001b[0;34m\u001b[0m\u001b[0m\n\u001b[1;32m    307\u001b[0m \u001b[0;34m\u001b[0m\u001b[0m\n",
      "\u001b[0;31mTypeError\u001b[0m: add received an invalid combination of arguments - got (torch.cuda.FloatTensor), but expected one of:\n * (float value)\n      didn't match because some of the arguments have invalid types: (\u001b[31;1mtorch.cuda.FloatTensor\u001b[0m)\n * (torch.FloatTensor other)\n      didn't match because some of the arguments have invalid types: (\u001b[31;1mtorch.cuda.FloatTensor\u001b[0m)\n * (torch.SparseFloatTensor other)\n      didn't match because some of the arguments have invalid types: (\u001b[31;1mtorch.cuda.FloatTensor\u001b[0m)\n * (float value, torch.FloatTensor other)\n * (float value, torch.SparseFloatTensor other)\n"
     ]
    }
   ],
   "source": [
    "# Step 4: Do the training \n",
    "pgd_cifar_training.train(train_loader, 256, train_loss, \n",
    "                         attack_parameters=pgd_attack_params,\n",
    "                         use_gpu=True, verbosity='medium')"
   ]
  },
  {
   "cell_type": "code",
   "execution_count": null,
   "metadata": {},
   "outputs": [],
   "source": []
  }
 ],
 "metadata": {
  "kernelspec": {
   "display_name": "Python 2",
   "language": "python",
   "name": "python2"
  },
  "language_info": {
   "codemirror_mode": {
    "name": "ipython",
    "version": 2
   },
   "file_extension": ".py",
   "mimetype": "text/x-python",
   "name": "python",
   "nbconvert_exporter": "python",
   "pygments_lexer": "ipython2",
   "version": "2.7.14"
  }
 },
 "nbformat": 4,
 "nbformat_minor": 2
}
