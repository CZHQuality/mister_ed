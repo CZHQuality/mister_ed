{
 "cells": [
  {
   "cell_type": "code",
   "execution_count": 1,
   "metadata": {},
   "outputs": [],
   "source": [
    "\"\"\" 3/26/18 \n",
    "With a functional mister_ed package, it's time to run the madry challenge.\n",
    "\n",
    "Step 1 is to build a defended network that can transfer to their tensorflow nets.\n",
    "Because Madry uses tensorflow, transferability is a must. \n",
    "\n",
    "From Madry:\n",
    "The model is a residual convolutional neural network consisting of five residual units and a fully connected layer. \n",
    "This architecture is derived from the \"w32-10 wide\" variant of the Tensorflow model repository. \n",
    "The network was trained against an iterative adversary that is allowed to perturb each pixel by at most epsilon=8.0.\n",
    "\"\"\"\n",
    "None"
   ]
  },
  {
   "cell_type": "code",
   "execution_count": 2,
   "metadata": {},
   "outputs": [],
   "source": [
    "# Universal import block \n",
    "# Block to get the relative imports working \n",
    "import os\n",
    "import sys \n",
    "module_path = os.path.abspath(os.path.join('..'))\n",
    "if module_path not in sys.path:\n",
    "    sys.path.append(module_path)\n",
    "\n",
    "import torch\n",
    "import torch.nn as nn\n",
    "\n",
    "import config\n",
    "import prebuilt_loss_functions as plf\n",
    "import utils.pytorch_utils as utils\n",
    "import utils.image_utils as img_utils\n",
    "import cifar10.cifar_loader as cifar_loader\n",
    "import cifar10.cifar_resnets as cifar_resnets\n",
    "import adversarial_attacks as aa\n",
    "import adversarial_training as advtrain\n"
   ]
  },
  {
   "cell_type": "code",
   "execution_count": 3,
   "metadata": {},
   "outputs": [
    {
     "name": "stdout",
     "output_type": "stream",
     "text": [
      "Files already downloaded and verified\n"
     ]
    }
   ],
   "source": [
    "# Step -1: load the classifier, data_loader, and the normalizer \n",
    "use_gpu = True\n",
    "classifier_net = cifar_loader.load_pretrained_cifar_resnet(flavor=32,\n",
    "                                                           use_gpu=use_gpu)\n",
    "classifier_net.eval()\n",
    "\n",
    "val_loader = cifar_loader.load_cifar_data('val', normalize=False, \n",
    "                                          use_gpu=use_gpu)\n",
    "\n",
    "cifar_normer = utils.DifferentiableNormalize(mean=config.CIFAR10_MEANS,\n",
    "                                             std=config.CIFAR10_STDS)\n"
   ]
  },
  {
   "cell_type": "code",
   "execution_count": 4,
   "metadata": {},
   "outputs": [],
   "source": [
    "# Step 0: initialize hyperparams \n",
    "PGD_L_INF = 8.0 / 255.0\n",
    "PGD_STEP_SIZE = 1.0 / 255.0\n",
    "PGD_NUM_ITER = 16"
   ]
  },
  {
   "cell_type": "code",
   "execution_count": 5,
   "metadata": {},
   "outputs": [],
   "source": [
    "# Step 1: setup loss object \n",
    "standard_xentropy = plf.VanillaXentropy(classifier_net, normalizer=cifar_normer)"
   ]
  },
  {
   "cell_type": "code",
   "execution_count": 6,
   "metadata": {},
   "outputs": [],
   "source": [
    "# Step 2: build attack object \n",
    "pgd_attack_object = aa.LInfPGD(classifier_net, cifar_normer, standard_xentropy)"
   ]
  },
  {
   "cell_type": "code",
   "execution_count": 7,
   "metadata": {},
   "outputs": [],
   "source": [
    "# Step 3: setup a batch of examples \n",
    "ex_minibatch, ex_targets = next(iter(val_loader))\n"
   ]
  },
  {
   "cell_type": "code",
   "execution_count": 8,
   "metadata": {},
   "outputs": [
    {
     "data": {
      "text/plain": [
       "torch.FloatTensor"
      ]
     },
     "execution_count": 8,
     "metadata": {},
     "output_type": "execute_result"
    }
   ],
   "source": [
    "pgd_attack_object._dtype"
   ]
  },
  {
   "cell_type": "code",
   "execution_count": 9,
   "metadata": {},
   "outputs": [
    {
     "name": "stdout",
     "output_type": "stream",
     "text": [
      "(START):  87.5 correct\n",
      "\n",
      " 81.25 correct\n",
      "(iteration 00):  31.25 correct\n",
      "(iteration 01):  0.0 correct\n",
      "(iteration 02):  0.0 correct\n",
      "(iteration 03):  0.0 correct\n",
      "(iteration 04):  0.0 correct\n",
      "(iteration 05):  0.0 correct\n",
      "(iteration 06):  0.0 correct\n",
      "(iteration 07):  0.0 correct\n",
      "(iteration 08):  0.0 correct\n",
      "(iteration 09):  0.0 correct\n",
      "(iteration 10):  0.0 correct\n",
      "(iteration 11):  0.0 correct\n",
      "(iteration 12):  0.0 correct\n",
      "(iteration 13):  0.0 correct\n",
      "(iteration 14):  0.0 correct\n",
      "(iteration 15):  0.0 correct\n"
     ]
    }
   ],
   "source": [
    "# Step 4: perform the actual attack \n",
    "pgd_adv_images = pgd_attack_object.attack(ex_minibatch, ex_targets, \n",
    "                                          l_inf_bound=PGD_L_INF,\n",
    "                                          step_size=PGD_STEP_SIZE,\n",
    "                                          num_iterations=PGD_NUM_ITER,\n",
    "                                          random_init=True,\n",
    "                                          signed=True,\n",
    "                                          verbose=True)"
   ]
  },
  {
   "cell_type": "code",
   "execution_count": null,
   "metadata": {},
   "outputs": [],
   "source": []
  }
 ],
 "metadata": {
  "kernelspec": {
   "display_name": "Python 2",
   "language": "python",
   "name": "python2"
  },
  "language_info": {
   "codemirror_mode": {
    "name": "ipython",
    "version": 2
   },
   "file_extension": ".py",
   "mimetype": "text/x-python",
   "name": "python",
   "nbconvert_exporter": "python",
   "pygments_lexer": "ipython2",
   "version": "2.7.14"
  }
 },
 "nbformat": 4,
 "nbformat_minor": 2
}
