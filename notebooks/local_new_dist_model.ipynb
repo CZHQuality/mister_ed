{
 "cells": [
  {
   "cell_type": "code",
   "execution_count": 11,
   "metadata": {},
   "outputs": [],
   "source": [
    "# Universal import block \n",
    "# Block to get the relative imports working \n",
    "import os\n",
    "import sys \n",
    "module_path = os.path.abspath(os.path.join('..'))\n",
    "if module_path not in sys.path:\n",
    "    sys.path.append(module_path)\n",
    "\n",
    "import torch\n",
    "import torch.nn as nn\n",
    "\n",
    "import config\n",
    "import prebuilt_loss_functions as plf\n",
    "import loss_functions as lf \n",
    "import utils.pytorch_utils as utils\n",
    "import utils.image_utils as img_utils\n",
    "import cifar10.cifar_loader as cifar_loader\n",
    "import cifar10.cifar_resnets as cifar_resnets\n",
    "import adversarial_attacks as aa\n",
    "import adversarial_training as advtrain\n",
    "import adversarial_evaluation as adveval\n",
    "import checkpoints\n",
    "import custom_lpips.custom_dist_model as cdm \n",
    "from torch.autograd import Variable"
   ]
  },
  {
   "cell_type": "code",
   "execution_count": 12,
   "metadata": {},
   "outputs": [
    {
     "name": "stdout",
     "output_type": "stream",
     "text": [
      "Files already downloaded and verified\n"
     ]
    }
   ],
   "source": [
    "# Get cifar loader working \n",
    "\n",
    "val_loader = cifar_loader.load_cifar_data('val', normalize=False)\n"
   ]
  },
  {
   "cell_type": "code",
   "execution_count": 13,
   "metadata": {},
   "outputs": [
    {
     "name": "stdout",
     "output_type": "stream",
     "text": [
      "torch.Size([128, 3, 32, 32])\n"
     ]
    }
   ],
   "source": [
    "batch_1, _ = next(iter(val_loader))\n",
    "print batch_1.shape"
   ]
  },
  {
   "cell_type": "code",
   "execution_count": 14,
   "metadata": {},
   "outputs": [],
   "source": [
    "reload(cdm)\n",
    "dist_model = cdm.DistModel(net='alex', use_gpu=True)"
   ]
  },
  {
   "cell_type": "code",
   "execution_count": 17,
   "metadata": {},
   "outputs": [
    {
     "name": "stdout",
     "output_type": "stream",
     "text": [
      "torch.Size([5, 3, 32, 32]) torch.Size([5, 3, 32, 32])\n"
     ]
    }
   ],
   "source": [
    "first_5_img_var = Variable(batch_1[:5], requires_grad=True).cuda()\n",
    "second_5_img_var = Variable(batch_1[5:10], requires_grad=True).cuda()\n",
    "print first_5_img_var.shape, second_5_img_var.shape\n"
   ]
  },
  {
   "cell_type": "code",
   "execution_count": 18,
   "metadata": {},
   "outputs": [
    {
     "name": "stdout",
     "output_type": "stream",
     "text": [
      "Variable containing:\n",
      "(0 ,0 ,.,.) = \n",
      "  0.1471\n",
      "\n",
      "(1 ,0 ,.,.) = \n",
      "  0.1200\n",
      "\n",
      "(2 ,0 ,.,.) = \n",
      "  0.1182\n",
      "\n",
      "(3 ,0 ,.,.) = \n",
      "  0.0945\n",
      "\n",
      "(4 ,0 ,.,.) = \n",
      "  0.1711\n",
      "[torch.cuda.FloatTensor of size 5x1x1x1 (GPU 0)]\n",
      "\n"
     ]
    }
   ],
   "source": [
    "print dist_model.forward_var(first_5_img_var, second_5_img_var)"
   ]
  },
  {
   "cell_type": "code",
   "execution_count": null,
   "metadata": {},
   "outputs": [],
   "source": []
  }
 ],
 "metadata": {
  "kernelspec": {
   "display_name": "Python 2",
   "language": "python",
   "name": "python2"
  },
  "language_info": {
   "codemirror_mode": {
    "name": "ipython",
    "version": 2
   },
   "file_extension": ".py",
   "mimetype": "text/x-python",
   "name": "python",
   "nbconvert_exporter": "python",
   "pygments_lexer": "ipython2",
   "version": "2.7.14"
  }
 },
 "nbformat": 4,
 "nbformat_minor": 2
}
