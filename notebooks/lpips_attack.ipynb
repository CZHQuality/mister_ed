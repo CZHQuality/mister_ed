{
 "cells": [
  {
   "cell_type": "code",
   "execution_count": 1,
   "metadata": {},
   "outputs": [
    {
     "name": "stdout",
     "output_type": "stream",
     "text": [
      "\n"
     ]
    }
   ],
   "source": [
    "\"\"\" File to generate an LPIPS attack in the infinity norm \n",
    "(specifically to beat the Madry challenge)\n",
    "\n",
    "Steps to get this done:\n",
    "-1) Import a buncha things \n",
    " 0) Load up my dataset, normalizer, adversarially trained net \n",
    " 1) Build attack parameters\n",
    " 2) Check efficacy on small dataset \n",
    " 3) Build madry dataset \n",
    "\"\"\"\n",
    "print\n"
   ]
  },
  {
   "cell_type": "code",
   "execution_count": 2,
   "metadata": {},
   "outputs": [],
   "source": [
    "# Universal import block \n",
    "# Block to get the relative imports working \n",
    "import os\n",
    "import sys \n",
    "module_path = os.path.abspath(os.path.join('..'))\n",
    "if module_path not in sys.path:\n",
    "    sys.path.append(module_path)\n",
    "\n",
    "import torch\n",
    "import torch.nn as nn\n",
    "\n",
    "import config\n",
    "import prebuilt_loss_functions as plf\n",
    "import loss_functions as lf \n",
    "import utils.pytorch_utils as utils\n",
    "import utils.image_utils as img_utils\n",
    "import cifar10.cifar_loader as cifar_loader\n",
    "import cifar10.cifar_resnets as cifar_resnets\n",
    "import adversarial_attacks as aa\n",
    "import adversarial_training as advtrain\n",
    "import adversarial_evaluation as adveval\n",
    "import checkpoints"
   ]
  },
  {
   "cell_type": "code",
   "execution_count": 3,
   "metadata": {},
   "outputs": [
    {
     "name": "stdout",
     "output_type": "stream",
     "text": [
      "Files already downloaded and verified\n"
     ]
    }
   ],
   "source": [
    "# Block 0: load dataset, normalizer, adversarially trained net \n",
    "val_loader = cifar_loader.load_cifar_data('val', normalize=False, batch_size=16, use_gpu=True)\n",
    "\n",
    "cifar_normer = utils.DifferentiableNormalize(mean=config.CIFAR10_MEANS,\n",
    "                                           std=config.CIFAR10_STDS)\n",
    "\n",
    "base_model = cifar_resnets.resnet32()\n",
    "adv_trained_net = checkpoints.load_state_dict_from_filename('half_trained_madry.th', base_model)\n",
    "eval_obj = adveval.AdversarialEvaluation(adv_trained_net, cifar_normer)\n",
    "\n"
   ]
  },
  {
   "cell_type": "code",
   "execution_count": 4,
   "metadata": {},
   "outputs": [
    {
     "name": "stdout",
     "output_type": "stream",
     "text": [
      "Starting minibatch 0...\n",
      "GPU Size is 908.8KiB \n",
      "\t (mb: 0) evaluating perceptual...\n"
     ]
    },
    {
     "ename": "AssertionError",
     "evalue": "",
     "output_type": "error",
     "traceback": [
      "\u001b[0;31m---------------------------------------------------------------------------\u001b[0m",
      "\u001b[0;31mAssertionError\u001b[0m                            Traceback (most recent call last)",
      "\u001b[0;32m<ipython-input-4-9c7d908c14a1>\u001b[0m in \u001b[0;36m<module>\u001b[0;34m()\u001b[0m\n\u001b[1;32m     27\u001b[0m \u001b[0;34m\u001b[0m\u001b[0m\n\u001b[1;32m     28\u001b[0m \u001b[0;34m\u001b[0m\u001b[0m\n\u001b[0;32m---> 29\u001b[0;31m \u001b[0meval_obj\u001b[0m\u001b[0;34m.\u001b[0m\u001b[0mevaluate_ensemble\u001b[0m\u001b[0;34m(\u001b[0m\u001b[0mval_loader\u001b[0m\u001b[0;34m,\u001b[0m \u001b[0;34m{\u001b[0m\u001b[0;34m'perceptual'\u001b[0m\u001b[0;34m:\u001b[0m \u001b[0mattack_params\u001b[0m\u001b[0;34m[\u001b[0m\u001b[0;34m'1.0'\u001b[0m\u001b[0;34m]\u001b[0m\u001b[0;34m}\u001b[0m\u001b[0;34m,\u001b[0m \u001b[0muse_gpu\u001b[0m\u001b[0;34m=\u001b[0m\u001b[0mTrue\u001b[0m\u001b[0;34m)\u001b[0m\u001b[0;34m\u001b[0m\u001b[0m\n\u001b[0m",
      "\u001b[0;32m/home/mjordan/git_repos/mister_ed/adversarial_evaluation.pyc\u001b[0m in \u001b[0;36mevaluate_ensemble\u001b[0;34m(self, data_loader, attack_ensemble, use_gpu, verbosity, num_minibatches)\u001b[0m\n\u001b[1;32m    111\u001b[0m                 \u001b[0;32mprint\u001b[0m \u001b[0;34m\"\\t (mb: %s) evaluating %s...\"\u001b[0m \u001b[0;34m%\u001b[0m \u001b[0;34m(\u001b[0m\u001b[0mi\u001b[0m\u001b[0;34m,\u001b[0m \u001b[0mattack_name\u001b[0m\u001b[0;34m)\u001b[0m\u001b[0;34m\u001b[0m\u001b[0m\n\u001b[1;32m    112\u001b[0m                 attack_out_tuple = attack_params.attack(var_inputs.data,\n\u001b[0;32m--> 113\u001b[0;31m                                                         var_labels.data)\n\u001b[0m\u001b[1;32m    114\u001b[0m                 \u001b[0mattack_examples\u001b[0m \u001b[0;34m=\u001b[0m \u001b[0mVariable\u001b[0m\u001b[0;34m(\u001b[0m\u001b[0mattack_out_tuple\u001b[0m\u001b[0;34m[\u001b[0m\u001b[0;36m0\u001b[0m\u001b[0;34m]\u001b[0m\u001b[0;34m)\u001b[0m\u001b[0;34m\u001b[0m\u001b[0m\n\u001b[1;32m    115\u001b[0m                 \u001b[0mpre_adv_labels\u001b[0m \u001b[0;34m=\u001b[0m \u001b[0mVariable\u001b[0m\u001b[0;34m(\u001b[0m\u001b[0mattack_out_tuple\u001b[0m\u001b[0;34m[\u001b[0m\u001b[0;36m1\u001b[0m\u001b[0;34m]\u001b[0m\u001b[0;34m)\u001b[0m\u001b[0;34m\u001b[0m\u001b[0m\n",
      "\u001b[0;32m/home/mjordan/git_repos/mister_ed/adversarial_training.pyc\u001b[0m in \u001b[0;36mattack\u001b[0;34m(self, inputs, labels)\u001b[0m\n\u001b[1;32m    103\u001b[0m \u001b[0;34m\u001b[0m\u001b[0m\n\u001b[1;32m    104\u001b[0m         adv_examples = self.adv_attack_obj.attack(adv_inputs, pre_adv_labels,\n\u001b[0;32m--> 105\u001b[0;31m                                                   **self.attack_kwargs)\n\u001b[0m\u001b[1;32m    106\u001b[0m         \u001b[0madv_examples\u001b[0m \u001b[0;34m=\u001b[0m \u001b[0mself\u001b[0m\u001b[0;34m.\u001b[0m\u001b[0moutput_filter\u001b[0m\u001b[0;34m(\u001b[0m\u001b[0madv_examples\u001b[0m\u001b[0;34m)\u001b[0m\u001b[0;34m\u001b[0m\u001b[0m\n\u001b[1;32m    107\u001b[0m \u001b[0;34m\u001b[0m\u001b[0m\n",
      "\u001b[0;32m/home/mjordan/git_repos/mister_ed/adversarial_attacks.pyc\u001b[0m in \u001b[0;36mattack\u001b[0;34m(self, examples, labels, l_inf_bound, step_size, num_iterations, random_init, signed, verbose)\u001b[0m\n\u001b[1;32m    399\u001b[0m             var_examples = self._do_iteration(var_examples, var_labels, signed,\n\u001b[1;32m    400\u001b[0m                                               \u001b[0mstep_size\u001b[0m\u001b[0;34m,\u001b[0m \u001b[0ml_inf_bound\u001b[0m\u001b[0;34m,\u001b[0m\u001b[0;34m\u001b[0m\u001b[0m\n\u001b[0;32m--> 401\u001b[0;31m                                               reference_var)\n\u001b[0m\u001b[1;32m    402\u001b[0m             \u001b[0mvalidator\u001b[0m\u001b[0;34m(\u001b[0m\u001b[0mvar_examples\u001b[0m\u001b[0;34m,\u001b[0m \u001b[0mvar_labels\u001b[0m\u001b[0;34m,\u001b[0m \u001b[0miter_no\u001b[0m\u001b[0;34m=\u001b[0m\u001b[0miter_no\u001b[0m\u001b[0;34m)\u001b[0m\u001b[0;34m\u001b[0m\u001b[0m\n\u001b[1;32m    403\u001b[0m \u001b[0;34m\u001b[0m\u001b[0m\n",
      "\u001b[0;32m/home/mjordan/git_repos/mister_ed/adversarial_attacks.pyc\u001b[0m in \u001b[0;36m_do_iteration\u001b[0;34m(self, intermed_images, var_labels, signed, step_size, l_inf_bound, reference_var)\u001b[0m\n\u001b[1;32m    308\u001b[0m         \u001b[0;32massert\u001b[0m \u001b[0mself\u001b[0m\u001b[0;34m.\u001b[0m\u001b[0mloss_fxn\u001b[0m\u001b[0;34m.\u001b[0m\u001b[0mlosses\u001b[0m\u001b[0;34m[\u001b[0m\u001b[0;34m'lpips_reg'\u001b[0m\u001b[0;34m]\u001b[0m\u001b[0;34m.\u001b[0m\u001b[0mfix_im\u001b[0m \u001b[0;32mis\u001b[0m \u001b[0;32mnot\u001b[0m \u001b[0mNone\u001b[0m\u001b[0;34m\u001b[0m\u001b[0m\n\u001b[1;32m    309\u001b[0m         \u001b[0;32massert\u001b[0m \u001b[0mintermed_images\u001b[0m \u001b[0;32mis\u001b[0m \u001b[0;32mnot\u001b[0m \u001b[0mNone\u001b[0m\u001b[0;34m\u001b[0m\u001b[0m\n\u001b[0;32m--> 310\u001b[0;31m         \u001b[0mloss\u001b[0m \u001b[0;34m=\u001b[0m \u001b[0mself\u001b[0m\u001b[0;34m.\u001b[0m\u001b[0mloss_fxn\u001b[0m\u001b[0;34m.\u001b[0m\u001b[0mforward\u001b[0m\u001b[0;34m(\u001b[0m\u001b[0mintermed_images\u001b[0m\u001b[0;34m,\u001b[0m \u001b[0mvar_labels\u001b[0m\u001b[0;34m)\u001b[0m\u001b[0;34m\u001b[0m\u001b[0m\n\u001b[0m\u001b[1;32m    311\u001b[0m \u001b[0;34m\u001b[0m\u001b[0m\n\u001b[1;32m    312\u001b[0m         \u001b[0;32mif\u001b[0m \u001b[0mtorch\u001b[0m\u001b[0;34m.\u001b[0m\u001b[0mnumel\u001b[0m\u001b[0;34m(\u001b[0m\u001b[0mloss\u001b[0m\u001b[0;34m)\u001b[0m \u001b[0;34m>\u001b[0m \u001b[0;36m1\u001b[0m\u001b[0;34m:\u001b[0m\u001b[0;34m\u001b[0m\u001b[0m\n",
      "\u001b[0;32m/home/mjordan/git_repos/mister_ed/loss_functions.py\u001b[0m in \u001b[0;36mforward\u001b[0;34m(self, examples, labels, *args, **kwargs)\u001b[0m\n\u001b[1;32m     37\u001b[0m             \u001b[0mscalar\u001b[0m \u001b[0;34m=\u001b[0m \u001b[0mself\u001b[0m\u001b[0;34m.\u001b[0m\u001b[0mscalars\u001b[0m\u001b[0;34m[\u001b[0m\u001b[0mk\u001b[0m\u001b[0;34m]\u001b[0m\u001b[0;34m\u001b[0m\u001b[0m\n\u001b[1;32m     38\u001b[0m \u001b[0;34m\u001b[0m\u001b[0m\n\u001b[0;32m---> 39\u001b[0;31m             \u001b[0mloss_val\u001b[0m \u001b[0;34m=\u001b[0m \u001b[0mloss\u001b[0m\u001b[0;34m.\u001b[0m\u001b[0mforward\u001b[0m\u001b[0;34m(\u001b[0m\u001b[0mexamples\u001b[0m\u001b[0;34m,\u001b[0m \u001b[0mlabels\u001b[0m\u001b[0;34m,\u001b[0m \u001b[0;34m*\u001b[0m\u001b[0margs\u001b[0m\u001b[0;34m,\u001b[0m \u001b[0;34m**\u001b[0m\u001b[0mkwargs\u001b[0m\u001b[0;34m)\u001b[0m\u001b[0;34m\u001b[0m\u001b[0m\n\u001b[0m\u001b[1;32m     40\u001b[0m \u001b[0;34m\u001b[0m\u001b[0m\n\u001b[1;32m     41\u001b[0m             \u001b[0;31m# assert scalar is either a...\u001b[0m\u001b[0;34m\u001b[0m\u001b[0;34m\u001b[0m\u001b[0m\n",
      "\u001b[0;32m/home/mjordan/git_repos/mister_ed/loss_functions.py\u001b[0m in \u001b[0;36mforward\u001b[0;34m(self, examples, *args, **kwargs)\u001b[0m\n\u001b[1;32m    250\u001b[0m         \u001b[0mxform\u001b[0m \u001b[0;34m=\u001b[0m \u001b[0;32mlambda\u001b[0m \u001b[0mim\u001b[0m\u001b[0;34m:\u001b[0m \u001b[0mim\u001b[0m \u001b[0;34m*\u001b[0m \u001b[0;36m2.0\u001b[0m \u001b[0;34m-\u001b[0m \u001b[0;36m1.0\u001b[0m\u001b[0;34m\u001b[0m\u001b[0m\n\u001b[1;32m    251\u001b[0m         perceptual_loss = dist_model.forward_var(examples,\n\u001b[0;32m--> 252\u001b[0;31m                                                  self.fix_im)\n\u001b[0m\u001b[1;32m    253\u001b[0m \u001b[0;34m\u001b[0m\u001b[0m\n\u001b[1;32m    254\u001b[0m         \u001b[0;32mdel\u001b[0m \u001b[0mdist_model\u001b[0m\u001b[0;34m\u001b[0m\u001b[0m\n",
      "\u001b[0;32m/home/mjordan/git_repos/mister_ed/lpips/dist_model.pyc\u001b[0m in \u001b[0;36mforward_var\u001b[0;34m(self, in0, in1)\u001b[0m\n\u001b[1;32m    107\u001b[0m         \u001b[0;32massert\u001b[0m \u001b[0misinstance\u001b[0m\u001b[0;34m(\u001b[0m\u001b[0min1\u001b[0m\u001b[0;34m,\u001b[0m \u001b[0mVariable\u001b[0m\u001b[0;34m)\u001b[0m\u001b[0;34m\u001b[0m\u001b[0m\n\u001b[1;32m    108\u001b[0m         \u001b[0;32massert\u001b[0m \u001b[0mlen\u001b[0m\u001b[0;34m(\u001b[0m\u001b[0min1\u001b[0m\u001b[0;34m.\u001b[0m\u001b[0mshape\u001b[0m\u001b[0;34m)\u001b[0m \u001b[0;34m==\u001b[0m \u001b[0;36m4\u001b[0m\u001b[0;34m\u001b[0m\u001b[0m\n\u001b[0;32m--> 109\u001b[0;31m         \u001b[0;32mreturn\u001b[0m \u001b[0mself\u001b[0m\u001b[0;34m.\u001b[0m\u001b[0mforward_pair\u001b[0m\u001b[0;34m(\u001b[0m\u001b[0min0\u001b[0m\u001b[0;34m,\u001b[0m \u001b[0min1\u001b[0m\u001b[0;34m)\u001b[0m\u001b[0;34m\u001b[0m\u001b[0m\n\u001b[0m\u001b[1;32m    110\u001b[0m \u001b[0;34m\u001b[0m\u001b[0m\n\u001b[1;32m    111\u001b[0m     \u001b[0;32mdef\u001b[0m \u001b[0mzero_grad\u001b[0m\u001b[0;34m(\u001b[0m\u001b[0mself\u001b[0m\u001b[0;34m)\u001b[0m\u001b[0;34m:\u001b[0m\u001b[0;34m\u001b[0m\u001b[0m\n",
      "\u001b[0;32m/home/mjordan/git_repos/mister_ed/lpips/dist_model.pyc\u001b[0m in \u001b[0;36mforward_pair\u001b[0;34m(self, in1, in2, retPerLayer)\u001b[0m\n\u001b[1;32m     67\u001b[0m             \u001b[0;32mreturn\u001b[0m \u001b[0mself\u001b[0m\u001b[0;34m.\u001b[0m\u001b[0mnet\u001b[0m\u001b[0;34m.\u001b[0m\u001b[0mforward\u001b[0m\u001b[0;34m(\u001b[0m\u001b[0min1\u001b[0m\u001b[0;34m,\u001b[0m\u001b[0min2\u001b[0m\u001b[0;34m,\u001b[0m \u001b[0mretPerLayer\u001b[0m\u001b[0;34m=\u001b[0m\u001b[0mTrue\u001b[0m\u001b[0;34m)\u001b[0m\u001b[0;34m\u001b[0m\u001b[0m\n\u001b[1;32m     68\u001b[0m         \u001b[0;32melse\u001b[0m\u001b[0;34m:\u001b[0m\u001b[0;34m\u001b[0m\u001b[0m\n\u001b[0;32m---> 69\u001b[0;31m             \u001b[0;32mreturn\u001b[0m \u001b[0mself\u001b[0m\u001b[0;34m.\u001b[0m\u001b[0mnet\u001b[0m\u001b[0;34m.\u001b[0m\u001b[0mforward\u001b[0m\u001b[0;34m(\u001b[0m\u001b[0min1\u001b[0m\u001b[0;34m,\u001b[0m\u001b[0min2\u001b[0m\u001b[0;34m)\u001b[0m\u001b[0;34m\u001b[0m\u001b[0m\n\u001b[0m\u001b[1;32m     70\u001b[0m \u001b[0;34m\u001b[0m\u001b[0m\n\u001b[1;32m     71\u001b[0m     \u001b[0;32mdef\u001b[0m \u001b[0mforward\u001b[0m\u001b[0;34m(\u001b[0m\u001b[0mself\u001b[0m\u001b[0;34m,\u001b[0m \u001b[0min0\u001b[0m\u001b[0;34m,\u001b[0m \u001b[0min1\u001b[0m\u001b[0;34m,\u001b[0m \u001b[0mretNumpy\u001b[0m\u001b[0;34m=\u001b[0m\u001b[0mTrue\u001b[0m\u001b[0;34m)\u001b[0m\u001b[0;34m:\u001b[0m\u001b[0;34m\u001b[0m\u001b[0m\n",
      "\u001b[0;32m/home/mjordan/git_repos/mister_ed/lpips/networks_basic.pyc\u001b[0m in \u001b[0;36mforward\u001b[0;34m(self, in0, in1)\u001b[0m\n\u001b[1;32m    207\u001b[0m \u001b[0;34m\u001b[0m\u001b[0m\n\u001b[1;32m    208\u001b[0m     \u001b[0;32mdef\u001b[0m \u001b[0mforward\u001b[0m\u001b[0;34m(\u001b[0m\u001b[0mself\u001b[0m\u001b[0;34m,\u001b[0m \u001b[0min0\u001b[0m\u001b[0;34m,\u001b[0m \u001b[0min1\u001b[0m\u001b[0;34m)\u001b[0m\u001b[0;34m:\u001b[0m\u001b[0;34m\u001b[0m\u001b[0m\n\u001b[0;32m--> 209\u001b[0;31m         \u001b[0;32massert\u001b[0m\u001b[0;34m(\u001b[0m\u001b[0min0\u001b[0m\u001b[0;34m.\u001b[0m\u001b[0msize\u001b[0m\u001b[0;34m(\u001b[0m\u001b[0;34m)\u001b[0m\u001b[0;34m[\u001b[0m\u001b[0;36m0\u001b[0m\u001b[0;34m]\u001b[0m\u001b[0;34m==\u001b[0m\u001b[0;36m1\u001b[0m\u001b[0;34m)\u001b[0m \u001b[0;31m# currently only supports batchSize 1\u001b[0m\u001b[0;34m\u001b[0m\u001b[0m\n\u001b[0m\u001b[1;32m    210\u001b[0m \u001b[0;34m\u001b[0m\u001b[0m\n\u001b[1;32m    211\u001b[0m         \u001b[0;32mif\u001b[0m\u001b[0;34m(\u001b[0m\u001b[0mself\u001b[0m\u001b[0;34m.\u001b[0m\u001b[0mcolorspace\u001b[0m\u001b[0;34m==\u001b[0m\u001b[0;34m'RGB'\u001b[0m\u001b[0;34m)\u001b[0m\u001b[0;34m:\u001b[0m\u001b[0;34m\u001b[0m\u001b[0m\n",
      "\u001b[0;31mAssertionError\u001b[0m: "
     ]
    }
   ],
   "source": [
    "# Block 1: build attack parameters \n",
    "ATTACK_KWARGS = {'l_inf_bound': 8.0/255.0, \n",
    "                 'step_size': 0.5/255.0,\n",
    "                 'num_iterations': 20, \n",
    "                 'random_init': True, \n",
    "                 'signed': True, \n",
    "                 'verbose': False}\n",
    "ATTACK_SPECIFIC_PARAMS = {'attack_kwargs': ATTACK_KWARGS}\n",
    "\n",
    "def build_attack_loss(classifier, normalizer, lpips_penalty):\n",
    "    \"\"\" Builds a regularized loss function for use in PGD \n",
    "    Takes in (perturbed_examples, labels) and returns \n",
    "    XEntropy(perturbed_examples, labels) + hyperparam * LPIPS(examples, perturbed_examples)\n",
    "    \"\"\"    \n",
    "    return plf.PerceptualXentropy(classifier, normalizer=normalizer, \n",
    "                                  regularization_constant=lpips_penalty, \n",
    "                                  use_gpu=True)\n",
    "\n",
    "attack_params = {}\n",
    "penalties = [0.01, 0.1, 1.0, 10.0, 100.0]\n",
    "for penalty in penalties:\n",
    "    loss_obj = build_attack_loss(adv_trained_net, cifar_normer, penalty)\n",
    "    attack_obj = aa.LInfPGD(adv_trained_net, cifar_normer, loss_obj, use_gpu=True)\n",
    "    attack_param = advtrain.AdversarialAttackParameters(attack_obj, 1.0, \n",
    "                                                        attack_specific_params=ATTACK_SPECIFIC_PARAMS)\n",
    "    attack_params[str(penalty)] = attack_param \n",
    "\n",
    "    \n",
    "eval_obj.evaluate_ensemble(val_loader, {'perceptual': attack_params['1.0']}, use_gpu=True)"
   ]
  },
  {
   "cell_type": "code",
   "execution_count": null,
   "metadata": {},
   "outputs": [],
   "source": [
    "# UGHHHHH MEMORY LEAK HELL\n",
    "# So first show that vanilla Xentropy is fine \n",
    "# Then show that L2 norms are fine \n",
    "# Then isolate that LPIPS is breaking things \n",
    "\n",
    "# Step 1: vanilla xentropy \n",
    "vanilla_loss = plf.VanillaXentropy(adv_trained_net, normalizer=cifar_normer)\n",
    "attack_obj = aa.LInfPGD(adv_trained_net, cifar_normer, vanilla_loss, use_gpu=True)\n",
    "vanilla_param = advtrain.AdversarialAttackParameters(attack_obj, 1.0, attack_specific_params=ATTACK_SPECIFIC_PARAMS)\n",
    "\n",
    "output = eval_obj.evaluate_ensemble(val_loader, {'vanilla': vanilla_param}, use_gpu=True)\n",
    "\n",
    "\n"
   ]
  },
  {
   "cell_type": "code",
   "execution_count": null,
   "metadata": {},
   "outputs": [],
   "source": [
    "\n",
    "# Step 2: l2 norms \n",
    "# --- make l2 + xentropy loss \n",
    "class L2Xentropy(lf.RegularizedLoss):\n",
    "    \"\"\" Xentropy loss with a regularization based on l2 distance \"\"\"\n",
    "\n",
    "    def __init__(self, classifier, normalizer=None,\n",
    "                 regularization_constant=-100.0):\n",
    "        partial_xentropy = lf.PartialXentropy(classifier, normalizer=normalizer)\n",
    "        l2_reg = lf.L2Regularization(None)\n",
    "\n",
    "        super(L2Xentropy, self).__init__({'xentropy': partial_xentropy,\n",
    "                                                  'l2_reg': l2_reg},\n",
    "                                                  {'xentropy': 1.0,\n",
    "                                                   'l2_reg':\n",
    "                                                       regularization_constant})\n",
    "# --- /make l2 + xentropy loss\n",
    "l2_loss = L2Xentropy(adv_trained_net, normalizer=cifar_normer)\n",
    "l2_attack_obj = aa.LInfPGD(adv_trained_net, cifar_normer, l2_loss, use_gpu=True)\n",
    "l2_param = advtrain.AdversarialAttackParameters(l2_attack_obj, 1.0, attack_specific_params=ATTACK_SPECIFIC_PARAMS)\n",
    "output = eval_obj.evaluate_ensemble(val_loader, {'l2': l2_param}, use_gpu=True)\n",
    "\n"
   ]
  },
  {
   "cell_type": "code",
   "execution_count": null,
   "metadata": {},
   "outputs": [],
   "source": [
    "mini_ex, mini_label = next(iter(val_loader))"
   ]
  },
  {
   "cell_type": "code",
   "execution_count": null,
   "metadata": {},
   "outputs": [],
   "source": [
    "from torch.autograd import Variable\n",
    "# print l2_loss.losses['l2_reg'].fix_im.is_cuda\n",
    "vini_ex = Variable(mini_ex.cuda(), requires_grad=True)\n",
    "vini_label = Variable(mini_label.cuda(), requires_grad=False)\n",
    "\n",
    "loss_out = l2_loss.forward(vini_ex, vini_label)\n",
    "\n",
    "print loss_out\n"
   ]
  },
  {
   "cell_type": "code",
   "execution_count": null,
   "metadata": {},
   "outputs": [],
   "source": []
  }
 ],
 "metadata": {
  "kernelspec": {
   "display_name": "Python 2",
   "language": "python",
   "name": "python2"
  },
  "language_info": {
   "codemirror_mode": {
    "name": "ipython",
    "version": 2
   },
   "file_extension": ".py",
   "mimetype": "text/x-python",
   "name": "python",
   "nbconvert_exporter": "python",
   "pygments_lexer": "ipython2",
   "version": "2.7.14"
  }
 },
 "nbformat": 4,
 "nbformat_minor": 2
}
