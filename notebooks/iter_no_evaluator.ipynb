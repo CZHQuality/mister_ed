{
 "cells": [
  {
   "cell_type": "code",
   "execution_count": 1,
   "metadata": {},
   "outputs": [
    {
     "name": "stdout",
     "output_type": "stream",
     "text": [
      "\n"
     ]
    }
   ],
   "source": [
    "\"\"\" Main Script to evaluate a trained model \"\"\"\n",
    "print \n"
   ]
  },
  {
   "cell_type": "code",
   "execution_count": 2,
   "metadata": {},
   "outputs": [],
   "source": [
    "import torch\n",
    "import torch.nn as nn\n",
    "import torch.nn.functional as F\n",
    "import torch.optim as optim\n",
    "import torchvision\n",
    "\n",
    "from torch.autograd import Variable\n",
    "import numpy as np\n",
    "\n",
    "\n",
    "# Universal import block \n",
    "# Block to get the relative imports working \n",
    "import os\n",
    "import sys \n",
    "module_path = os.path.abspath(os.path.join('..'))\n",
    "if module_path not in sys.path:\n",
    "    sys.path.append(module_path)\n",
    "import math\n",
    "import config\n",
    "import matplotlib.pyplot as plt \n",
    "import prebuilt_loss_functions as plf\n",
    "import loss_functions as lf \n",
    "import utils.pytorch_utils as utils\n",
    "import utils.image_utils as img_utils\n",
    "import cifar10.cifar_loader as cifar_loader\n",
    "import cifar10.cifar_resnets as cifar_resnets\n",
    "import adversarial_attacks as aa\n",
    "import adversarial_training as advtrain\n",
    "import adversarial_evaluation as adveval\n",
    "import utils.checkpoints as checkpoints\n",
    "import adversarial_perturbations as ap\n",
    "import adversarial_attacks_refactor as aar \n",
    "import spatial_transformers as st "
   ]
  },
  {
   "cell_type": "code",
   "execution_count": 3,
   "metadata": {},
   "outputs": [
    {
     "name": "stdout",
     "output_type": "stream",
     "text": [
      "Loading pgd_linf8_lr01_iter50.resnet32.000032.path.tar params into resnet32\n"
     ]
    }
   ],
   "source": [
    "# LOAD THE PRETRAINED (DEFENDED) MODEL (NOTE: THIS HAS TO BE RESNET32)\n",
    "USE_GPU = torch.cuda.is_available()\n",
    "EXPERIMENT_NAME = \"pgd_linf8_lr01_iter50\" #INSERT EXPERIMENT NAME HERE\n",
    "\n",
    "classifier_net, cifar_normer = cifar_loader.load_pretrained_cifar_resnet(flavor=32, use_gpu=USE_GPU, \n",
    "                                                                    return_normalizer=True) \n",
    "\n",
    "\n",
    "defended_state_dict_file = checkpoints.params_to_filename(EXPERIMENT_NAME, 'resnet32')[-1]\n",
    "print \"Loading %s params into resnet32\" % defended_state_dict_file \n",
    "\n",
    "classifier_net = checkpoints.load_state_dict_from_filename(defended_state_dict_file, classifier_net)"
   ]
  },
  {
   "cell_type": "code",
   "execution_count": 4,
   "metadata": {},
   "outputs": [
    {
     "name": "stdout",
     "output_type": "stream",
     "text": [
      "Files already downloaded and verified\n"
     ]
    }
   ],
   "source": [
    "# LOAD THE EVALUATION DATASET \n",
    "val_loader = cifar_loader.load_cifar_data('val', normalize=False, \n",
    "                                          batch_size=128, use_gpu=USE_GPU, \n",
    "                                         shuffle=True)\n"
   ]
  },
  {
   "cell_type": "code",
   "execution_count": 5,
   "metadata": {},
   "outputs": [],
   "source": [
    "reload(adveval)\n",
    "# Build various attacks to test \n",
    "L_INF_BOUND = 8.0/255.0 \n",
    "\n",
    "##############################################################################\n",
    "#                                                                            #\n",
    "#        PGD LINFINITY                                                       #\n",
    "#                                                                            #\n",
    "##############################################################################\n",
    "\n",
    "    \n",
    "def build_delta_pgd_eval(iter_no):\n",
    "    # UNSIGNED PGD ATTACK \n",
    "    delta_threat = ap.ThreatModel(ap.DeltaAddition, \n",
    "                                  ap.PerturbationParameters(lp_style='inf',\n",
    "                                                            lp_bound=L_INF_BOUND,\n",
    "                                                            use_gpu=USE_GPU))\n",
    "    attack_loss = plf.VanillaXentropy(classifier_net, cifar_normer)\n",
    "    pgd_attack = aar.PGD(classifier_net, cifar_normer, delta_threat, attack_loss, use_gpu=USE_GPU)\n",
    "    optimizer = optim.Adam\n",
    "    optimizer_kwargs = {'lr': 0.01}\n",
    "    pgd_kwargs = {'num_iterations': iter_no, \n",
    "                  'signed': False, \n",
    "                  'optimizer': optimizer, \n",
    "                  'optimizer_kwargs': optimizer_kwargs, \n",
    "                  'verbose': False}      \n",
    "    params = advtrain.AdversarialAttackParameters(pgd_attack, 1.0, \n",
    "                                       attack_specific_params={'attack_kwargs': pgd_kwargs})\n",
    "    to_eval= {'top1': 'top1',\n",
    "              'lpips': 'avg_successful_lpips'}\n",
    "    \n",
    "    eval_result = adveval.EvaluationResult(params, classifier_net, cifar_normer, \n",
    "                                           to_eval=to_eval, use_gpu=USE_GPU)\n",
    "    return eval_result     \n",
    "\n",
    "##############################################################################\n",
    "#                                                                            #\n",
    "#      PGD FLOW                                                              #\n",
    "#                                                                            #\n",
    "##############################################################################\n",
    "\n",
    "def build_stadv_pgd_eval(iter_no):\n",
    "    # STAdv style attack \n",
    "    flow_threat = ap.ThreatModel(ap.ParameterizedXformAdv, \n",
    "                                 ap.PerturbationParameters(lp_style='inf', \n",
    "                                                           lp_bound=2,\n",
    "                                                           xform_class=st.FullSpatial, \n",
    "                                                           use_gpu=USE_GPU))\n",
    "    adv_loss = lf.CWLossF6(classifier_net, cifar_normer)\n",
    "    st_loss = lf.PerturbationNormLoss(lp=2)\n",
    "    \n",
    "    loss_fxn = lf.RegularizedLoss({'adv': adv_loss, 'st':st_loss}, \n",
    "                                  {'adv': 1.0, 'st': 0.05},\n",
    "                                  negate=True)  \n",
    "    \n",
    "    optimizer = optim.Adam\n",
    "    optimizer_kwargs = {'lr': 0.001}\n",
    "    pgd_attack = aar.PGD(classifier_net, cifar_normer, flow_threat, loss_fxn, use_gpu=USE_GPU)\n",
    "    pgd_kwargs = {'num_iterations': iter_no,  \n",
    "                  'signed': False, \n",
    "                  'optimizer': optimizer, \n",
    "                  'optimizer_kwargs': optimizer_kwargs, \n",
    "                  'verbose': False}    \n",
    "\n",
    "\n",
    "    params = advtrain.AdversarialAttackParameters(pgd_attack, 1.0, \n",
    "                                       attack_specific_params={'attack_kwargs': pgd_kwargs})\n",
    "    to_eval= {'top1': 'top1',\n",
    "              'lpips': 'avg_successful_lpips'}    \n",
    "    eval_result = adveval.EvaluationResult(params, classifier_net, cifar_normer, \n",
    "                                           to_eval=to_eval, use_gpu=USE_GPU)\n",
    "    return eval_result  \n",
    "\n",
    "\n"
   ]
  },
  {
   "cell_type": "code",
   "execution_count": 6,
   "metadata": {},
   "outputs": [],
   "source": [
    "def verify_eval(eval_obj, num=4):\n",
    "    examples, labels = next(iter(val_loader))\n",
    "    examples = examples.cuda()\n",
    "    labels = labels.cuda() \n",
    "    attack_out = eval_obj.attack_params.attack(examples, labels)\n",
    "    img_utils.show_images([attack_out[0][:num], examples[:num], \n",
    "                           attack_out[0][:num] - examples[:num] + 0.5])"
   ]
  },
  {
   "cell_type": "code",
   "execution_count": 7,
   "metadata": {},
   "outputs": [
    {
     "name": "stdout",
     "output_type": "stream",
     "text": [
      "Starting minibatch 0...\n",
      "\t (mb: 0) evaluating pgd_010...\n",
      "\t (mb: 0) evaluating pgd_001...\n",
      "\t (mb: 0) evaluating pgd_005...\n",
      "\t (mb: 0) evaluating pgd_100...\n",
      "\t (mb: 0) evaluating pgd_020...\n",
      "\t (mb: 0) evaluating pgd_200...\n",
      "\t (mb: 0) evaluating pgd_050...\n",
      "\t (mb: 0) evaluating ground...\n",
      "Starting minibatch 1...\n",
      "\t (mb: 1) evaluating pgd_010...\n",
      "\t (mb: 1) evaluating pgd_001...\n",
      "\t (mb: 1) evaluating pgd_005...\n",
      "\t (mb: 1) evaluating pgd_100...\n",
      "\t (mb: 1) evaluating pgd_020...\n",
      "\t (mb: 1) evaluating pgd_200...\n",
      "\t (mb: 1) evaluating pgd_050...\n",
      "\t (mb: 1) evaluating ground...\n",
      "Starting minibatch 2...\n",
      "\t (mb: 2) evaluating pgd_010...\n",
      "\t (mb: 2) evaluating pgd_001...\n",
      "\t (mb: 2) evaluating pgd_005...\n",
      "\t (mb: 2) evaluating pgd_100...\n",
      "\t (mb: 2) evaluating pgd_020...\n",
      "\t (mb: 2) evaluating pgd_200...\n",
      "\t (mb: 2) evaluating pgd_050...\n",
      "\t (mb: 2) evaluating ground...\n"
     ]
    }
   ],
   "source": [
    "# BUILD ATTACK ENSEMBLE \n",
    "ensemble = {'pgd_%03d' % i : build_delta_pgd_eval(i) for i in [1, 5, 10, 20, 50, 100, 200]}\n",
    "            \n",
    "eval_obj = adveval.AdversarialEvaluation(classifier_net, cifar_normer, use_gpu=USE_GPU)\n",
    "eval_output = eval_obj.evaluate_ensemble(val_loader, ensemble, verbose=True, num_minibatches=3)\n"
   ]
  },
  {
   "cell_type": "code",
   "execution_count": 9,
   "metadata": {},
   "outputs": [
    {
     "name": "stdout",
     "output_type": "stream",
     "text": [
      "ground 0.830729166667\n",
      "pgd_001 0.700520833333 0.000622766103166\n",
      "pgd_005 0.416666666667 0.00538342815036\n",
      "pgd_010 0.390625 0.00547844352057\n",
      "pgd_020 0.3828125 0.00541843157262\n",
      "pgd_050 0.380208333333 0.00545579619849\n",
      "pgd_100 0.380208333333 0.00550063445878\n",
      "pgd_200 0.377604166667 0.00547154405369\n"
     ]
    }
   ],
   "source": [
    "for k, v in sorted(eval_output.items(), key=lambda d: d[0]):\n",
    "    if k != 'ground':\n",
    "        print k, v.results['top1'].avg, v.results['lpips']\n",
    "    else:\n",
    "        print k, v.results['top1'].avg"
   ]
  },
  {
   "cell_type": "code",
   "execution_count": null,
   "metadata": {},
   "outputs": [],
   "source": [
    "\n",
    "    \n"
   ]
  },
  {
   "cell_type": "code",
   "execution_count": null,
   "metadata": {},
   "outputs": [],
   "source": []
  }
 ],
 "metadata": {
  "kernelspec": {
   "display_name": "Python 2",
   "language": "python",
   "name": "python2"
  },
  "language_info": {
   "codemirror_mode": {
    "name": "ipython",
    "version": 2
   },
   "file_extension": ".py",
   "mimetype": "text/x-python",
   "name": "python",
   "nbconvert_exporter": "python",
   "pygments_lexer": "ipython2",
   "version": "2.7.14"
  }
 },
 "nbformat": 4,
 "nbformat_minor": 2
}
