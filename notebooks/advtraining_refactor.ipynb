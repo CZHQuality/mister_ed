{
 "cells": [
  {
   "cell_type": "code",
   "execution_count": null,
   "metadata": {},
   "outputs": [],
   "source": [
    "import torch\n",
    "import torch.nn as nn\n",
    "import torch.nn.functional as F\n",
    "import torch.optim as optim\n",
    "import torchvision\n",
    "\n",
    "from torch.autograd import Variable\n",
    "import numpy as np\n",
    "\n",
    "\n",
    "# Universal import block \n",
    "# Block to get the relative imports working \n",
    "import os\n",
    "import sys \n",
    "module_path = os.path.abspath(os.path.join('..'))\n",
    "if module_path not in sys.path:\n",
    "    sys.path.append(module_path)\n",
    "\n",
    "import config\n",
    "import matplotlib.pyplot as plt \n",
    "import prebuilt_loss_functions as plf\n",
    "import loss_functions as lf \n",
    "import utils.pytorch_utils as utils\n",
    "import utils.image_utils as img_utils\n",
    "import cifar10.cifar_loader as cifar_loader\n",
    "import cifar10.cifar_resnets as cifar_resnets\n",
    "import adversarial_attacks as aa\n",
    "import adversarial_training as advtrain\n",
    "import adversarial_evaluation as adveval\n",
    "import utils.checkpoints as checkpoints\n",
    "import adversarial_perturbations as ap\n",
    "import adversarial_attacks_refactor as aar \n",
    "import spatial_transformers as st \n",
    "reload(ap)"
   ]
  },
  {
   "cell_type": "code",
   "execution_count": null,
   "metadata": {},
   "outputs": [],
   "source": [
    "\"\"\" Goal here is to make sure adversarial training works under the refactored model. It _should_, but it might need \n",
    "    a few tweaks \n",
    "\"\"\"\n",
    "\n",
    "# Load up dataLoader, classifier, normer \n",
    "use_gpu = torch.cuda.is_available()\n",
    "classifier_net = cifar_loader.load_pretrained_cifar_resnet(flavor=32,\n",
    "                                                           use_gpu=use_gpu)\n",
    "classifier_net.eval()\n",
    "train_loader = cifar_loader.load_cifar_data('train', normalize=False, \n",
    "                                            batch_size=16, use_gpu=use_gpu)\n",
    "val_loader = cifar_loader.load_cifar_data('val', normalize=False, \n",
    "                                          batch_size=4, use_gpu=use_gpu)\n",
    "\n",
    "cifar_normer = utils.DifferentiableNormalize(mean=config.CIFAR10_MEANS,\n",
    "                                             std=config.CIFAR10_STDS)\n",
    "\n",
    "examples, labels = next(iter(val_loader))\n"
   ]
  },
  {
   "cell_type": "code",
   "execution_count": null,
   "metadata": {},
   "outputs": [],
   "source": [
    "# Make a threat model and attack object \n",
    "reload(advtrain)\n",
    "reload(aar)\n",
    "delta_threat = ap.ThreatModel(ap.DeltaAddition, \n",
    "                              ap.PerturbationParameters(lp_style='inf',\n",
    "                                                        lp_bound=8.0 / 255.0))\n",
    "loss_fxn = plf.VanillaXentropy(classifier_net, normalizer=cifar_normer) # USE A PLF LOSS FXN \n",
    "fgsm_attack = aar.FGSM(classifier_net, cifar_normer, delta_threat, loss_fxn)\n",
    "attack_params = advtrain.AdversarialAttackParameters(fgsm_attack, 1.0, \n",
    "                                                     attack_specific_params={'attack_kwargs': {'step_size': 0.1}})\n",
    "print attack_params\n",
    "\n",
    "rot_threat = ap.ThreatModel(ap.ParameterizedXformAdv, \n",
    "                            ap.PerturbationParameters(lp_style='inf', \n",
    "                                                      lp_bound=10.0 / 360,\n",
    "                                                      xform_class=st.RotationTransform))\n",
    "loss_fxn_rot = plf.VanillaXentropy(classifier_net, normalizer=cifar_normer) # USE A PLF LOSS FXN \n",
    "rot_attack = aar.PGD(classifier_net, cifar_normer, rot_threat, loss_fxn_rot)\n",
    "rot_attack_params = advtrain.AdversarialAttackParameters(rot_attack, 1.0, \n",
    "                                                     attack_specific_params={'attack_kwargs': {'step_size': 0.01}})\n",
    "\n"
   ]
  },
  {
   "cell_type": "code",
   "execution_count": null,
   "metadata": {},
   "outputs": [],
   "source": [
    "print isinstance(attack_params, advtrain.AdversarialAttackParameters)"
   ]
  },
  {
   "cell_type": "code",
   "execution_count": null,
   "metadata": {},
   "outputs": [],
   "source": [
    "reload(advtrain)\n",
    "\n",
    "classifier_net.train()\n",
    "train_obj = advtrain.AdversarialTraining(classifier_net, cifar_normer, 'refactor_test', 'resnet32')\n",
    "train_loss = nn.CrossEntropyLoss() # USE A PREBUILT TRAIN LOSS FXN \n",
    "train_obj.train(train_loader, 2, train_loss, attack_parameters=[attack_params, rot_attack_params], verbosity=\"snoop\", \n",
    "                adversarial_save_dir='foobar')\n",
    "\n"
   ]
  },
  {
   "cell_type": "code",
   "execution_count": null,
   "metadata": {},
   "outputs": [],
   "source": []
  }
 ],
 "metadata": {
  "kernelspec": {
   "display_name": "Python 2",
   "language": "python",
   "name": "python2"
  },
  "language_info": {
   "codemirror_mode": {
    "name": "ipython",
    "version": 2
   },
   "file_extension": ".py",
   "mimetype": "text/x-python",
   "name": "python",
   "nbconvert_exporter": "python",
   "pygments_lexer": "ipython2",
   "version": "2.7.10"
  }
 },
 "nbformat": 4,
 "nbformat_minor": 2
}
